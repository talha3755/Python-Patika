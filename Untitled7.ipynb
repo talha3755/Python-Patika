{
  "metadata": {
    "language_info": {
      "codemirror_mode": {
        "name": "python",
        "version": 3
      },
      "file_extension": ".py",
      "mimetype": "text/x-python",
      "name": "python",
      "nbconvert_exporter": "python",
      "pygments_lexer": "ipython3",
      "version": "3.8"
    },
    "kernelspec": {
      "name": "python",
      "display_name": "Python (Pyodide)",
      "language": "python"
    }
  },
  "nbformat_minor": 4,
  "nbformat": 4,
  "cells": [
    {
      "cell_type": "markdown",
      "source": "# Flatten\n* www.patika.dev",
      "metadata": {}
    },
    {
      "cell_type": "code",
      "source": "l = [[1,'a',['cat'],2],[[[3]],'dog'],4,5]\n\nnew_l = []\ndef flatten(x):\n    for i in x:\n        if  type(i)==list:  #  i degerinin tipi liste ise \n            flatten(i)\n        else:\n            new_l.append(i)\n    return new_l \nprint(flatten(l))\n",
      "metadata": {
        "trusted": true
      },
      "execution_count": 5,
      "outputs": [
        {
          "name": "stdout",
          "text": "[1, 'a', 'cat', 2, 3, 'dog', 4, 5]\n",
          "output_type": "stream"
        }
      ]
    },
    {
      "cell_type": "markdown",
      "source": "# Reverse",
      "metadata": {}
    },
    {
      "cell_type": "code",
      "source": "def f(l): \n    l.reverse() \n    return lst \n\nl = [[1, 2], [3, 4], [5, 6, 7]] \na = f(l)\nm = []\nfor i in a:\n    k = f(i)\n    m.append(k)\nprint(m)",
      "metadata": {
        "trusted": true
      },
      "execution_count": 8,
      "outputs": [
        {
          "name": "stdout",
          "text": "[[[5, 6, 7], [3, 4], [1, 2]], [[5, 6, 7], [3, 4], [1, 2]], [[5, 6, 7], [3, 4], [1, 2]]]\n",
          "output_type": "stream"
        }
      ]
    },
    {
      "cell_type": "code",
      "source": "",
      "metadata": {},
      "execution_count": null,
      "outputs": []
    }
  ]
}